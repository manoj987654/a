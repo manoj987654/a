{
  "nbformat": 4,
  "nbformat_minor": 0,
  "metadata": {
    "colab": {
      "provenance": [],
      "authorship_tag": "ABX9TyMW6A3TmLyqW007eGr+ytMM",
      "include_colab_link": true
    },
    "kernelspec": {
      "name": "python3",
      "display_name": "Python 3"
    },
    "language_info": {
      "name": "python"
    }
  },
  "cells": [
    {
      "cell_type": "markdown",
      "metadata": {
        "id": "view-in-github",
        "colab_type": "text"
      },
      "source": [
        "<a href=\"https://colab.research.google.com/github/manoj987654/a/blob/main/Untitled3.ipynb\" target=\"_parent\"><img src=\"https://colab.research.google.com/assets/colab-badge.svg\" alt=\"Open In Colab\"/></a>"
      ]
    },
    {
      "cell_type": "code",
      "source": [
        "import pandas as pd\n",
        "# Load the Titanic dataset\n",
        "titanic_df = pd.read_csv('/content/titanic.csv')\n",
        "# Display the first few rows of the dataset\n",
        "print(\"Loaded Dataset:\")\n",
        "#(assuming it's saved as a CSV file)\n",
        "print(titanic_df.head())"
      ],
      "metadata": {
        "colab": {
          "base_uri": "https://localhost:8080/"
        },
        "id": "wwiCwOmlnQpv",
        "outputId": "e8b4a6c4-c25a-46c0-dc2e-07f969421f93"
      },
      "execution_count": 1,
      "outputs": [
        {
          "output_type": "stream",
          "name": "stdout",
          "text": [
            "Loaded Dataset:\n",
            "   PassengerId  Survived  Pclass  \\\n",
            "0            1         0       3   \n",
            "1            2         1       1   \n",
            "2            3         1       3   \n",
            "3            4         1       1   \n",
            "4            5         0       3   \n",
            "\n",
            "                                                Name     Sex   Age  SibSp  \\\n",
            "0                            Braund, Mr. Owen Harris    male  22.0      1   \n",
            "1  Cumings, Mrs. John Bradley (Florence Briggs Th...  female  38.0      1   \n",
            "2                             Heikkinen, Miss. Laina  female  26.0      0   \n",
            "3       Futrelle, Mrs. Jacques Heath (Lily May Peel)  female  35.0      1   \n",
            "4                           Allen, Mr. William Henry    male  35.0      0   \n",
            "\n",
            "   Parch            Ticket     Fare Cabin Embarked  \n",
            "0      0         A/5 21171   7.2500   NaN        S  \n",
            "1      0          PC 17599  71.2833   C85        C  \n",
            "2      0  STON/O2. 3101282   7.9250   NaN        S  \n",
            "3      0            113803  53.1000  C123        S  \n",
            "4      0            373450   8.0500   NaN        S  \n"
          ]
        }
      ]
    },
    {
      "cell_type": "code",
      "source": [
        "y = titanic_df['Survived']\n",
        "# Assuming the rest of the columns\n",
        "#are independent variables\n",
        "X = titanic_df.drop('Survived', axis=1)\n",
        "# Display the dependent variable\n",
        "print(\"\\nDependent Variable (y):\")\n",
        "print(y.head())\n",
        "# Display the independent variables\n",
        "print(\"\\nIndependent Variables (X):\")\n",
        "print(X.head())"
      ],
      "metadata": {
        "colab": {
          "base_uri": "https://localhost:8080/"
        },
        "id": "vkgwR1CjnXi3",
        "outputId": "1eb3d3d7-7a6d-47de-a13b-d8fa89bfeba8"
      },
      "execution_count": 2,
      "outputs": [
        {
          "output_type": "stream",
          "name": "stdout",
          "text": [
            "\n",
            "Dependent Variable (y):\n",
            "0    0\n",
            "1    1\n",
            "2    1\n",
            "3    1\n",
            "4    0\n",
            "Name: Survived, dtype: int64\n",
            "\n",
            "Independent Variables (X):\n",
            "   PassengerId  Pclass                                               Name  \\\n",
            "0            1       3                            Braund, Mr. Owen Harris   \n",
            "1            2       1  Cumings, Mrs. John Bradley (Florence Briggs Th...   \n",
            "2            3       3                             Heikkinen, Miss. Laina   \n",
            "3            4       1       Futrelle, Mrs. Jacques Heath (Lily May Peel)   \n",
            "4            5       3                           Allen, Mr. William Henry   \n",
            "\n",
            "      Sex   Age  SibSp  Parch            Ticket     Fare Cabin Embarked  \n",
            "0    male  22.0      1      0         A/5 21171   7.2500   NaN        S  \n",
            "1  female  38.0      1      0          PC 17599  71.2833   C85        C  \n",
            "2  female  26.0      0      0  STON/O2. 3101282   7.9250   NaN        S  \n",
            "3  female  35.0      1      0            113803  53.1000  C123        S  \n",
            "4    male  35.0      0      0            373450   8.0500   NaN        S  \n"
          ]
        }
      ]
    },
    {
      "cell_type": "code",
      "source": [
        "missing_data = titanic_df.isnull().sum()\n",
        "print(\"\\nMissing Data:\")\n",
        "print(missing_data)\n",
        "# Drop rows with missing values\n",
        "#(in this example, we drop rows with any missing val\n",
        "#titanic_df_cleaned = titanic_df.dropna()\n",
        "# Alternatively, impute missing values using the\n",
        "#mean or median or ffill\n",
        "titanic_df_cleaned =titanic_df.fillna(titanic_df.ffill())\n",
        "# Display the cleaned dataset\n",
        "print(\"\\nCleaned Dataset:\")\n",
        "print(titanic_df_cleaned.head(10))"
      ],
      "metadata": {
        "colab": {
          "base_uri": "https://localhost:8080/"
        },
        "id": "sCRuLJl9ndo_",
        "outputId": "5601d5f7-88d1-49ab-a5b0-2dd45ec72910"
      },
      "execution_count": 4,
      "outputs": [
        {
          "output_type": "stream",
          "name": "stdout",
          "text": [
            "\n",
            "Missing Data:\n",
            "PassengerId      0\n",
            "Survived         0\n",
            "Pclass           0\n",
            "Name             0\n",
            "Sex              0\n",
            "Age            177\n",
            "SibSp            0\n",
            "Parch            0\n",
            "Ticket           0\n",
            "Fare             0\n",
            "Cabin          687\n",
            "Embarked         2\n",
            "dtype: int64\n",
            "\n",
            "Cleaned Dataset:\n",
            "   PassengerId  Survived  Pclass  \\\n",
            "0            1         0       3   \n",
            "1            2         1       1   \n",
            "2            3         1       3   \n",
            "3            4         1       1   \n",
            "4            5         0       3   \n",
            "5            6         0       3   \n",
            "6            7         0       1   \n",
            "7            8         0       3   \n",
            "8            9         1       3   \n",
            "9           10         1       2   \n",
            "\n",
            "                                                Name     Sex   Age  SibSp  \\\n",
            "0                            Braund, Mr. Owen Harris    male  22.0      1   \n",
            "1  Cumings, Mrs. John Bradley (Florence Briggs Th...  female  38.0      1   \n",
            "2                             Heikkinen, Miss. Laina  female  26.0      0   \n",
            "3       Futrelle, Mrs. Jacques Heath (Lily May Peel)  female  35.0      1   \n",
            "4                           Allen, Mr. William Henry    male  35.0      0   \n",
            "5                                   Moran, Mr. James    male  35.0      0   \n",
            "6                            McCarthy, Mr. Timothy J    male  54.0      0   \n",
            "7                     Palsson, Master. Gosta Leonard    male   2.0      3   \n",
            "8  Johnson, Mrs. Oscar W (Elisabeth Vilhelmina Berg)  female  27.0      0   \n",
            "9                Nasser, Mrs. Nicholas (Adele Achem)  female  14.0      1   \n",
            "\n",
            "   Parch            Ticket     Fare Cabin Embarked  \n",
            "0      0         A/5 21171   7.2500   NaN        S  \n",
            "1      0          PC 17599  71.2833   C85        C  \n",
            "2      0  STON/O2. 3101282   7.9250   C85        S  \n",
            "3      0            113803  53.1000  C123        S  \n",
            "4      0            373450   8.0500  C123        S  \n",
            "5      0            330877   8.4583  C123        Q  \n",
            "6      0             17463  51.8625   E46        S  \n",
            "7      1            349909  21.0750   E46        S  \n",
            "8      2            347742  11.1333   E46        S  \n",
            "9      0            237736  30.0708   E46        C  \n"
          ]
        }
      ]
    }
  ]
}